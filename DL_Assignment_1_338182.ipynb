{
  "nbformat": 4,
  "nbformat_minor": 0,
  "metadata": {
    "colab": {
      "provenance": [],
      "toc_visible": true
    },
    "kernelspec": {
      "name": "python3",
      "display_name": "Python 3"
    },
    "language_info": {
      "name": "python"
    },
    "widgets": {
      "application/vnd.jupyter.widget-state+json": {
        "ca77cdd1d66b461f8ec16dbe69e99881": {
          "model_module": "@jupyter-widgets/controls",
          "model_name": "HBoxModel",
          "model_module_version": "1.5.0",
          "state": {
            "_dom_classes": [],
            "_model_module": "@jupyter-widgets/controls",
            "_model_module_version": "1.5.0",
            "_model_name": "HBoxModel",
            "_view_count": null,
            "_view_module": "@jupyter-widgets/controls",
            "_view_module_version": "1.5.0",
            "_view_name": "HBoxView",
            "box_style": "",
            "children": [
              "IPY_MODEL_8bed976747ac479e9ae6e59b298af020",
              "IPY_MODEL_238f70e904794bcb876b338c6886ab17",
              "IPY_MODEL_bc87f0933df2443fa1e4d56dee2c789e"
            ],
            "layout": "IPY_MODEL_1be18554a9a141c0b35517ba864b9eaa"
          }
        },
        "8bed976747ac479e9ae6e59b298af020": {
          "model_module": "@jupyter-widgets/controls",
          "model_name": "HTMLModel",
          "model_module_version": "1.5.0",
          "state": {
            "_dom_classes": [],
            "_model_module": "@jupyter-widgets/controls",
            "_model_module_version": "1.5.0",
            "_model_name": "HTMLModel",
            "_view_count": null,
            "_view_module": "@jupyter-widgets/controls",
            "_view_module_version": "1.5.0",
            "_view_name": "HTMLView",
            "description": "",
            "description_tooltip": null,
            "layout": "IPY_MODEL_11a3f5f5b4f04ec5a5df32216b44598d",
            "placeholder": "​",
            "style": "IPY_MODEL_dbff3d9b15914f62997e294237aee6ef",
            "value": "100%"
          }
        },
        "238f70e904794bcb876b338c6886ab17": {
          "model_module": "@jupyter-widgets/controls",
          "model_name": "FloatProgressModel",
          "model_module_version": "1.5.0",
          "state": {
            "_dom_classes": [],
            "_model_module": "@jupyter-widgets/controls",
            "_model_module_version": "1.5.0",
            "_model_name": "FloatProgressModel",
            "_view_count": null,
            "_view_module": "@jupyter-widgets/controls",
            "_view_module_version": "1.5.0",
            "_view_name": "ProgressView",
            "bar_style": "success",
            "description": "",
            "description_tooltip": null,
            "layout": "IPY_MODEL_0d7323ba07a94b539ff07fbbacd92419",
            "max": 102530333,
            "min": 0,
            "orientation": "horizontal",
            "style": "IPY_MODEL_579e0edfa58d40d78a7d0160d79f6ffe",
            "value": 102530333
          }
        },
        "bc87f0933df2443fa1e4d56dee2c789e": {
          "model_module": "@jupyter-widgets/controls",
          "model_name": "HTMLModel",
          "model_module_version": "1.5.0",
          "state": {
            "_dom_classes": [],
            "_model_module": "@jupyter-widgets/controls",
            "_model_module_version": "1.5.0",
            "_model_name": "HTMLModel",
            "_view_count": null,
            "_view_module": "@jupyter-widgets/controls",
            "_view_module_version": "1.5.0",
            "_view_name": "HTMLView",
            "description": "",
            "description_tooltip": null,
            "layout": "IPY_MODEL_8d8dd84daba546e9a7953a7b0b17a41a",
            "placeholder": "​",
            "style": "IPY_MODEL_51268598a9844e0098de1607f3f78461",
            "value": " 97.8M/97.8M [00:01&lt;00:00, 85.2MB/s]"
          }
        },
        "1be18554a9a141c0b35517ba864b9eaa": {
          "model_module": "@jupyter-widgets/base",
          "model_name": "LayoutModel",
          "model_module_version": "1.2.0",
          "state": {
            "_model_module": "@jupyter-widgets/base",
            "_model_module_version": "1.2.0",
            "_model_name": "LayoutModel",
            "_view_count": null,
            "_view_module": "@jupyter-widgets/base",
            "_view_module_version": "1.2.0",
            "_view_name": "LayoutView",
            "align_content": null,
            "align_items": null,
            "align_self": null,
            "border": null,
            "bottom": null,
            "display": null,
            "flex": null,
            "flex_flow": null,
            "grid_area": null,
            "grid_auto_columns": null,
            "grid_auto_flow": null,
            "grid_auto_rows": null,
            "grid_column": null,
            "grid_gap": null,
            "grid_row": null,
            "grid_template_areas": null,
            "grid_template_columns": null,
            "grid_template_rows": null,
            "height": null,
            "justify_content": null,
            "justify_items": null,
            "left": null,
            "margin": null,
            "max_height": null,
            "max_width": null,
            "min_height": null,
            "min_width": null,
            "object_fit": null,
            "object_position": null,
            "order": null,
            "overflow": null,
            "overflow_x": null,
            "overflow_y": null,
            "padding": null,
            "right": null,
            "top": null,
            "visibility": null,
            "width": null
          }
        },
        "11a3f5f5b4f04ec5a5df32216b44598d": {
          "model_module": "@jupyter-widgets/base",
          "model_name": "LayoutModel",
          "model_module_version": "1.2.0",
          "state": {
            "_model_module": "@jupyter-widgets/base",
            "_model_module_version": "1.2.0",
            "_model_name": "LayoutModel",
            "_view_count": null,
            "_view_module": "@jupyter-widgets/base",
            "_view_module_version": "1.2.0",
            "_view_name": "LayoutView",
            "align_content": null,
            "align_items": null,
            "align_self": null,
            "border": null,
            "bottom": null,
            "display": null,
            "flex": null,
            "flex_flow": null,
            "grid_area": null,
            "grid_auto_columns": null,
            "grid_auto_flow": null,
            "grid_auto_rows": null,
            "grid_column": null,
            "grid_gap": null,
            "grid_row": null,
            "grid_template_areas": null,
            "grid_template_columns": null,
            "grid_template_rows": null,
            "height": null,
            "justify_content": null,
            "justify_items": null,
            "left": null,
            "margin": null,
            "max_height": null,
            "max_width": null,
            "min_height": null,
            "min_width": null,
            "object_fit": null,
            "object_position": null,
            "order": null,
            "overflow": null,
            "overflow_x": null,
            "overflow_y": null,
            "padding": null,
            "right": null,
            "top": null,
            "visibility": null,
            "width": null
          }
        },
        "dbff3d9b15914f62997e294237aee6ef": {
          "model_module": "@jupyter-widgets/controls",
          "model_name": "DescriptionStyleModel",
          "model_module_version": "1.5.0",
          "state": {
            "_model_module": "@jupyter-widgets/controls",
            "_model_module_version": "1.5.0",
            "_model_name": "DescriptionStyleModel",
            "_view_count": null,
            "_view_module": "@jupyter-widgets/base",
            "_view_module_version": "1.2.0",
            "_view_name": "StyleView",
            "description_width": ""
          }
        },
        "0d7323ba07a94b539ff07fbbacd92419": {
          "model_module": "@jupyter-widgets/base",
          "model_name": "LayoutModel",
          "model_module_version": "1.2.0",
          "state": {
            "_model_module": "@jupyter-widgets/base",
            "_model_module_version": "1.2.0",
            "_model_name": "LayoutModel",
            "_view_count": null,
            "_view_module": "@jupyter-widgets/base",
            "_view_module_version": "1.2.0",
            "_view_name": "LayoutView",
            "align_content": null,
            "align_items": null,
            "align_self": null,
            "border": null,
            "bottom": null,
            "display": null,
            "flex": null,
            "flex_flow": null,
            "grid_area": null,
            "grid_auto_columns": null,
            "grid_auto_flow": null,
            "grid_auto_rows": null,
            "grid_column": null,
            "grid_gap": null,
            "grid_row": null,
            "grid_template_areas": null,
            "grid_template_columns": null,
            "grid_template_rows": null,
            "height": null,
            "justify_content": null,
            "justify_items": null,
            "left": null,
            "margin": null,
            "max_height": null,
            "max_width": null,
            "min_height": null,
            "min_width": null,
            "object_fit": null,
            "object_position": null,
            "order": null,
            "overflow": null,
            "overflow_x": null,
            "overflow_y": null,
            "padding": null,
            "right": null,
            "top": null,
            "visibility": null,
            "width": null
          }
        },
        "579e0edfa58d40d78a7d0160d79f6ffe": {
          "model_module": "@jupyter-widgets/controls",
          "model_name": "ProgressStyleModel",
          "model_module_version": "1.5.0",
          "state": {
            "_model_module": "@jupyter-widgets/controls",
            "_model_module_version": "1.5.0",
            "_model_name": "ProgressStyleModel",
            "_view_count": null,
            "_view_module": "@jupyter-widgets/base",
            "_view_module_version": "1.2.0",
            "_view_name": "StyleView",
            "bar_color": null,
            "description_width": ""
          }
        },
        "8d8dd84daba546e9a7953a7b0b17a41a": {
          "model_module": "@jupyter-widgets/base",
          "model_name": "LayoutModel",
          "model_module_version": "1.2.0",
          "state": {
            "_model_module": "@jupyter-widgets/base",
            "_model_module_version": "1.2.0",
            "_model_name": "LayoutModel",
            "_view_count": null,
            "_view_module": "@jupyter-widgets/base",
            "_view_module_version": "1.2.0",
            "_view_name": "LayoutView",
            "align_content": null,
            "align_items": null,
            "align_self": null,
            "border": null,
            "bottom": null,
            "display": null,
            "flex": null,
            "flex_flow": null,
            "grid_area": null,
            "grid_auto_columns": null,
            "grid_auto_flow": null,
            "grid_auto_rows": null,
            "grid_column": null,
            "grid_gap": null,
            "grid_row": null,
            "grid_template_areas": null,
            "grid_template_columns": null,
            "grid_template_rows": null,
            "height": null,
            "justify_content": null,
            "justify_items": null,
            "left": null,
            "margin": null,
            "max_height": null,
            "max_width": null,
            "min_height": null,
            "min_width": null,
            "object_fit": null,
            "object_position": null,
            "order": null,
            "overflow": null,
            "overflow_x": null,
            "overflow_y": null,
            "padding": null,
            "right": null,
            "top": null,
            "visibility": null,
            "width": null
          }
        },
        "51268598a9844e0098de1607f3f78461": {
          "model_module": "@jupyter-widgets/controls",
          "model_name": "DescriptionStyleModel",
          "model_module_version": "1.5.0",
          "state": {
            "_model_module": "@jupyter-widgets/controls",
            "_model_module_version": "1.5.0",
            "_model_name": "DescriptionStyleModel",
            "_view_count": null,
            "_view_module": "@jupyter-widgets/base",
            "_view_module_version": "1.2.0",
            "_view_name": "StyleView",
            "description_width": ""
          }
        }
      }
    }
  },
  "cells": [
    {
      "cell_type": "code",
      "execution_count": 27,
      "metadata": {
        "colab": {
          "base_uri": "https://localhost:8080/"
        },
        "id": "xf47lH9lEjyN",
        "outputId": "564571f0-8ce5-4aac-bf3d-8193016f34bf"
      },
      "outputs": [
        {
          "output_type": "stream",
          "name": "stdout",
          "text": [
            "Epoch 1/20\n",
            "1875/1875 [==============================] - 8s 4ms/step - loss: 0.2345 - accuracy: 0.9309 - val_loss: 0.1163 - val_accuracy: 0.9645\n",
            "Epoch 2/20\n",
            "1875/1875 [==============================] - 8s 4ms/step - loss: 0.0991 - accuracy: 0.9695 - val_loss: 0.0926 - val_accuracy: 0.9711\n",
            "Epoch 3/20\n",
            "1875/1875 [==============================] - 8s 4ms/step - loss: 0.0683 - accuracy: 0.9787 - val_loss: 0.0735 - val_accuracy: 0.9763\n",
            "Epoch 4/20\n",
            "1875/1875 [==============================] - 7s 4ms/step - loss: 0.0511 - accuracy: 0.9841 - val_loss: 0.0786 - val_accuracy: 0.9750\n",
            "Epoch 5/20\n",
            "1875/1875 [==============================] - 6s 3ms/step - loss: 0.0416 - accuracy: 0.9863 - val_loss: 0.0877 - val_accuracy: 0.9740\n",
            "Epoch 6/20\n",
            "1875/1875 [==============================] - 8s 4ms/step - loss: 0.0320 - accuracy: 0.9896 - val_loss: 0.0880 - val_accuracy: 0.9767\n",
            "Epoch 7/20\n",
            "1875/1875 [==============================] - 7s 4ms/step - loss: 0.0276 - accuracy: 0.9908 - val_loss: 0.0804 - val_accuracy: 0.9794\n",
            "Epoch 8/20\n",
            "1875/1875 [==============================] - 7s 4ms/step - loss: 0.0230 - accuracy: 0.9924 - val_loss: 0.1029 - val_accuracy: 0.9750\n",
            "Epoch 9/20\n",
            "1875/1875 [==============================] - 6s 3ms/step - loss: 0.0216 - accuracy: 0.9931 - val_loss: 0.1227 - val_accuracy: 0.9736\n",
            "Epoch 10/20\n",
            "1875/1875 [==============================] - 9s 5ms/step - loss: 0.0186 - accuracy: 0.9937 - val_loss: 0.1033 - val_accuracy: 0.9762\n",
            "Epoch 11/20\n",
            "1875/1875 [==============================] - 7s 4ms/step - loss: 0.0183 - accuracy: 0.9944 - val_loss: 0.1067 - val_accuracy: 0.9775\n",
            "Epoch 12/20\n",
            "1875/1875 [==============================] - 7s 4ms/step - loss: 0.0162 - accuracy: 0.9948 - val_loss: 0.1437 - val_accuracy: 0.9712\n",
            "Epoch 13/20\n",
            "1875/1875 [==============================] - 7s 3ms/step - loss: 0.0146 - accuracy: 0.9954 - val_loss: 0.1118 - val_accuracy: 0.9782\n",
            "Epoch 14/20\n",
            "1875/1875 [==============================] - 8s 4ms/step - loss: 0.0128 - accuracy: 0.9956 - val_loss: 0.1184 - val_accuracy: 0.9776\n",
            "Epoch 15/20\n",
            "1875/1875 [==============================] - 7s 4ms/step - loss: 0.0127 - accuracy: 0.9957 - val_loss: 0.1028 - val_accuracy: 0.9806\n",
            "Epoch 16/20\n",
            "1875/1875 [==============================] - 6s 3ms/step - loss: 0.0125 - accuracy: 0.9960 - val_loss: 0.1325 - val_accuracy: 0.9778\n",
            "Epoch 17/20\n",
            "1875/1875 [==============================] - 9s 5ms/step - loss: 0.0116 - accuracy: 0.9963 - val_loss: 0.1276 - val_accuracy: 0.9779\n",
            "Epoch 18/20\n",
            "1875/1875 [==============================] - 6s 3ms/step - loss: 0.0126 - accuracy: 0.9959 - val_loss: 0.1146 - val_accuracy: 0.9801\n",
            "Epoch 19/20\n",
            "1875/1875 [==============================] - 7s 4ms/step - loss: 0.0117 - accuracy: 0.9964 - val_loss: 0.1414 - val_accuracy: 0.9774\n",
            "Epoch 20/20\n",
            "1875/1875 [==============================] - 6s 3ms/step - loss: 0.0095 - accuracy: 0.9970 - val_loss: 0.1368 - val_accuracy: 0.9799\n",
            "Test accuracy: 0.9799000024795532\n"
          ]
        }
      ],
      "source": [
        "import tensorflow as tf\n",
        "from tensorflow import keras\n",
        "\n",
        "# Load MNIST dataset\n",
        "mnist = keras.datasets.mnist\n",
        "(x_train, y_train), (x_test, y_test) = mnist.load_data()\n",
        "x_train_A = x_train.reshape(-1, 784) / 255.0\n",
        "x_test_A = x_test.reshape(-1, 784) / 255.0\n",
        "\n",
        "# Define Model A\n",
        "model_A = keras.Sequential([\n",
        "    keras.layers.Dense(128, activation='relu', input_shape=(784,)),\n",
        "    keras.layers.Dense(128, activation='relu'),\n",
        "    keras.layers.Dense(10, activation='softmax')\n",
        "])\n",
        "\n",
        "# Compile the model\n",
        "model_A.compile(optimizer='adam',\n",
        "              loss='sparse_categorical_crossentropy',\n",
        "              metrics=['accuracy'])\n",
        "\n",
        "# Callback to save the weights after each epoch\n",
        "class SaveWeights(keras.callbacks.Callback):\n",
        "    def on_epoch_end(self, epoch, logs):\n",
        "        self.model.save_weights(f'weights_epoch_{epoch}.h5')\n",
        "\n",
        "# Train the model with the SaveWeights callback\n",
        "history_A = model_A.fit(x_train_A, y_train, batch_size=32, epochs=20, validation_data=(x_test_A, y_test))\n",
        "\n",
        "# Load the weights from the last epoch\n",
        "#model_A.load_weights('weights_epoch_19.h5')\n",
        "\n",
        "# Evaluate the model on the test set\n",
        "test_loss, test_acc = model_A.evaluate(x_test_A, y_test, verbose=0)\n",
        "print('Test accuracy:', test_acc)\n"
      ]
    },
    {
      "cell_type": "code",
      "source": [
        "\n",
        "# Load MNIST dataset\n",
        "mnist = keras.datasets.mnist\n",
        "(x_train, y_train), (x_test, y_test) = mnist.load_data()\n",
        "x_train_B = x_train.reshape(-1, 28, 28, 1) / 255.0\n",
        "x_test_B = x_test.reshape(-1, 28, 28, 1) / 255.0\n",
        "\n",
        "# Define Model B\n",
        "model_B = keras.Sequential([\n",
        "    keras.layers.Conv2D(32, (3,3), activation='relu', input_shape=(28,28,1)),\n",
        "    keras.layers.MaxPooling2D((2,2)),\n",
        "    keras.layers.Conv2D(64, (3,3), activation='relu'),\n",
        "    keras.layers.MaxPooling2D((2,2)),\n",
        "    keras.layers.Flatten(),\n",
        "    keras.layers.Dense(128, activation='relu'),\n",
        "    keras.layers.Dense(10, activation='softmax')\n",
        "])\n",
        "\n",
        "# Compile the model\n",
        "model_B.compile(optimizer='adam',\n",
        "              loss='sparse_categorical_crossentropy',\n",
        "              metrics=['accuracy'])\n",
        "\n",
        "# Train the model\n",
        "history_B = model_B.fit(x_train_B, y_train, batch_size=32, epochs=20, validation_data=(x_test_B, y_test))\n",
        "\n",
        "# Evaluate the model on the test set\n",
        "test_loss, test_acc = model_B.evaluate(x_test_B, y_test, verbose=0)\n",
        "print('Test accuracy:', test_acc)\n"
      ],
      "metadata": {
        "colab": {
          "base_uri": "https://localhost:8080/"
        },
        "id": "qHatpIQVFbrt",
        "outputId": "79ad2983-8c73-4624-8645-8452eced5678"
      },
      "execution_count": 28,
      "outputs": [
        {
          "output_type": "stream",
          "name": "stdout",
          "text": [
            "Epoch 1/20\n",
            "1875/1875 [==============================] - 64s 34ms/step - loss: 0.1363 - accuracy: 0.9582 - val_loss: 0.0402 - val_accuracy: 0.9855\n",
            "Epoch 2/20\n",
            "1875/1875 [==============================] - 62s 33ms/step - loss: 0.0437 - accuracy: 0.9859 - val_loss: 0.0369 - val_accuracy: 0.9875\n",
            "Epoch 3/20\n",
            "1875/1875 [==============================] - 60s 32ms/step - loss: 0.0300 - accuracy: 0.9904 - val_loss: 0.0282 - val_accuracy: 0.9916\n",
            "Epoch 4/20\n",
            "1875/1875 [==============================] - 58s 31ms/step - loss: 0.0211 - accuracy: 0.9933 - val_loss: 0.0272 - val_accuracy: 0.9907\n",
            "Epoch 5/20\n",
            "1875/1875 [==============================] - 58s 31ms/step - loss: 0.0158 - accuracy: 0.9949 - val_loss: 0.0428 - val_accuracy: 0.9875\n",
            "Epoch 6/20\n",
            "1875/1875 [==============================] - 57s 30ms/step - loss: 0.0138 - accuracy: 0.9955 - val_loss: 0.0286 - val_accuracy: 0.9924\n",
            "Epoch 7/20\n",
            "1875/1875 [==============================] - 57s 30ms/step - loss: 0.0100 - accuracy: 0.9969 - val_loss: 0.0269 - val_accuracy: 0.9931\n",
            "Epoch 8/20\n",
            "1875/1875 [==============================] - 57s 30ms/step - loss: 0.0071 - accuracy: 0.9978 - val_loss: 0.0296 - val_accuracy: 0.9913\n",
            "Epoch 9/20\n",
            "1875/1875 [==============================] - 57s 30ms/step - loss: 0.0067 - accuracy: 0.9977 - val_loss: 0.0316 - val_accuracy: 0.9927\n",
            "Epoch 10/20\n",
            "1875/1875 [==============================] - 57s 31ms/step - loss: 0.0069 - accuracy: 0.9976 - val_loss: 0.0461 - val_accuracy: 0.9882\n",
            "Epoch 11/20\n",
            "1875/1875 [==============================] - 58s 31ms/step - loss: 0.0048 - accuracy: 0.9982 - val_loss: 0.0353 - val_accuracy: 0.9921\n",
            "Epoch 12/20\n",
            "1875/1875 [==============================] - 60s 32ms/step - loss: 0.0048 - accuracy: 0.9985 - val_loss: 0.0284 - val_accuracy: 0.9932\n",
            "Epoch 13/20\n",
            "1875/1875 [==============================] - 60s 32ms/step - loss: 0.0045 - accuracy: 0.9987 - val_loss: 0.0383 - val_accuracy: 0.9911\n",
            "Epoch 14/20\n",
            "1875/1875 [==============================] - 61s 32ms/step - loss: 0.0031 - accuracy: 0.9990 - val_loss: 0.0464 - val_accuracy: 0.9916\n",
            "Epoch 15/20\n",
            "1875/1875 [==============================] - 60s 32ms/step - loss: 0.0045 - accuracy: 0.9984 - val_loss: 0.0349 - val_accuracy: 0.9934\n",
            "Epoch 16/20\n",
            "1875/1875 [==============================] - 60s 32ms/step - loss: 0.0048 - accuracy: 0.9983 - val_loss: 0.0391 - val_accuracy: 0.9904\n",
            "Epoch 17/20\n",
            "1875/1875 [==============================] - 60s 32ms/step - loss: 0.0031 - accuracy: 0.9990 - val_loss: 0.0353 - val_accuracy: 0.9932\n",
            "Epoch 18/20\n",
            "1875/1875 [==============================] - 60s 32ms/step - loss: 0.0039 - accuracy: 0.9987 - val_loss: 0.0497 - val_accuracy: 0.9907\n",
            "Epoch 19/20\n",
            "1875/1875 [==============================] - 61s 33ms/step - loss: 0.0031 - accuracy: 0.9990 - val_loss: 0.0391 - val_accuracy: 0.9926\n",
            "Epoch 20/20\n",
            "1875/1875 [==============================] - 60s 32ms/step - loss: 0.0022 - accuracy: 0.9994 - val_loss: 0.0451 - val_accuracy: 0.9917\n",
            "Test accuracy: 0.9916999936103821\n"
          ]
        }
      ]
    },
    {
      "cell_type": "code",
      "source": [
        "import matplotlib.pyplot as plt\n",
        "import numpy as np\n",
        "import seaborn as sns\n",
        "\n",
        "# Plot the loss function\n",
        "plt.plot(history_A.history['loss'], label='Model A')\n",
        "plt.plot(history_B.history['loss'], label='Model B')\n",
        "plt.xlabel('Epoch')\n",
        "plt.ylabel('Loss')\n",
        "plt.legend()\n",
        "plt.show()\n",
        "\n",
        "# Plot the accuracy\n",
        "plt.plot(history_A.history['accuracy'], label='Model A')\n",
        "plt.plot(history_B.history['accuracy'], label='Model B')\n",
        "plt.xlabel('Epoch')\n",
        "plt.ylabel('Accuracy')\n",
        "plt.legend()\n",
        "plt.show()\n",
        "\n",
        "# Plot the confusion matrix\n",
        "y_pred_A = model_A.predict(x_test_A).argmax(axis=1)\n",
        "y_pred_B = model_B.predict(x_test_B).argmax(axis=1)\n",
        "\n",
        "confusion_matrix_A = np.zeros((10, 10))\n",
        "for i in range(10000):\n",
        "    confusion_matrix_A[y_test[i], y_pred_A[i]] += 1\n",
        "\n",
        "confusion_matrix_B = np.zeros((10, 10))\n",
        "for i in range(10000):\n",
        "    confusion_matrix_B[y_test[i], y_pred_B[i]] += 1\n",
        "\n",
        "sns.heatmap(confusion_matrix_A, annot=True)\n",
        "plt.xlabel('Predicted Label')\n",
        "plt.ylabel('True Label')\n",
        "plt.title('Confusion Matrix for Model A')\n",
        "plt.show()\n",
        "\n",
        "sns.heatmap(confusion_matrix_B, annot=True)\n",
        "plt.xlabel('Predicted Label')\n",
        "plt.ylabel('True Label')\n",
        "plt.title('Confusion Matrix for Model B')\n",
        "plt.show()\n"
      ],
      "metadata": {
        "colab": {
          "base_uri": "https://localhost:8080/",
          "height": 1000
        },
        "id": "A0sx_ZaRFZT5",
        "outputId": "7869df63-9907-4a9b-ead4-9faa4fbfcf55"
      },
      "execution_count": 5,
      "outputs": [
        {
          "output_type": "display_data",
          "data": {
            "text/plain": [
              "<Figure size 432x288 with 1 Axes>"
            ],
            "image/png": "[encoded data removed]"
          },
          "metadata": {
            "needs_background": "light"
          }
        },
        {
          "output_type": "display_data",
          "data": {
            "text/plain": [
              "<Figure size 432x288 with 1 Axes>"
            ],
            "image/png": "[encoded data removed]"
          },
          "metadata": {
            "needs_background": "light"
          }
        },
        {
          "output_type": "stream",
          "name": "stdout",
          "text": [
            "313/313 [==============================] - 1s 2ms/step\n",
            "313/313 [==============================] - 3s 10ms/step\n"
          ]
        },
        {
          "output_type": "display_data",
          "data": {
            "text/plain": [
              "<Figure size 432x288 with 2 Axes>"
            ],
            "image/png": "[encoded data removed]"
          },
          "metadata": {
            "needs_background": "light"
          }
        },
        {
          "output_type": "display_data",
          "data": {
            "text/plain": [
              "<Figure size 432x288 with 2 Axes>"
            ],
            "image/png": "[encoded data removed]"
          },
          "metadata": {
            "needs_background": "light"
          }
        }
      ]
    },
    {
      "cell_type": "code",
      "source": [
        "# Plot training and validation accuracy\n",
        "plt.plot(history_B.history['accuracy'])\n",
        "plt.plot(history_B.history['val_accuracy'])\n",
        "plt.title('Model accuracy')\n",
        "plt.ylabel('Accuracy')\n",
        "plt.xlabel('Epoch')\n",
        "plt.legend(['Train', 'Test'], loc='upper left')\n",
        "plt.show()"
      ],
      "metadata": {
        "id": "KJYot-39g-07",
        "outputId": "e9a6531e-7079-4c55-ca5f-b35fea5b9e62",
        "colab": {
          "base_uri": "https://localhost:8080/",
          "height": 295
        }
      },
      "execution_count": 29,
      "outputs": [
        {
          "output_type": "display_data",
          "data": {
            "text/plain": [
              "<Figure size 432x288 with 1 Axes>"
            ],
            "image/png": "[encoded data removed]"
          },
          "metadata": {
            "needs_background": "light"
          }
        }
      ]
    },
    {
      "cell_type": "code",
      "source": [
        "import torch \n",
        "import torchvision.datasets as datasets \n",
        "import torchvision.transforms as transforms \n",
        "import matplotlib.pyplot as plt\n",
        "\n",
        "# Load MIST dataset\n",
        "mnist_dataset = datasets.MNIST (root='mnist_data/', train=False, transform=transforms.ToTensor(), download=True)\n",
        "# Select a batch of images from the dataset\n",
        "images, labels = zip(*[x for x in mnist_dataset][:9])\n",
        "images = torch.stack(images)\n",
        "# Plot the images\n",
        "fig, ax = plt.subplots(nrows=3, ncols=3)\n",
        "for i in range(9):\n",
        "    ax[i//3, i%3].imshow(images[i].squeeze(), cmap=\"gray\")\n",
        "    ax[i//3, i%3].axis('off')\n",
        "plt.show()\n"
      ],
      "metadata": {
        "colab": {
          "base_uri": "https://localhost:8080/",
          "height": 248
        },
        "id": "ipnh9YKkkrqz",
        "outputId": "6fc11ffb-5998-47e6-bd93-9fae3c56dbc2"
      },
      "execution_count": 14,
      "outputs": [
        {
          "output_type": "display_data",
          "data": {
            "text/plain": [
              "<Figure size 432x288 with 9 Axes>"
            ],
            "image/png": "[encoded data removed]"
          },
          "metadata": {
            "needs_background": "light"
          }
        }
      ]
    },
    {
      "cell_type": "code",
      "source": [
        "import torch \n",
        "import torch.nn as nn\n",
        "import torchvision.models as models \n",
        "import torchvision.datasets as datasets \n",
        "import torchvision.transforms as transforms \n",
        "import matplotlib.pyplot as pit\n",
        "\n",
        "# Load pre-trained resnet 18\n",
        "model = models.resnet18(pretrained=True)\n",
        "model.eval()\n",
        "\n",
        "# Load MIST dataset\n",
        "mnist_dataset = datasets.MNIST (root='mnist_data/', train= False, transform=transforms.ToTensor(), download=True)\n",
        "\n",
        "# Select a batch of images from the dataset\n",
        "images, labels = zip(*[x for x in mnist_dataset][ :9])\n",
        "images = torch.stack(images).unsqueeze(0) # Add a batch dimension\n",
        "images = images.squeeze(0) # Remove the batch dimension\n",
        "images.reshape(-1, 1, 28, 28) # Reshape to (N, C, H, W)\n",
        "\n",
        "# Add a layer to increase the number of channels in the input\n",
        "channel_expansion = nn.Conv2d(1, 256, kernel_size=1)\n",
        "images = channel_expansion (images)\n",
        "\n",
        "# Pass the images through the network and get the activations of the selected layer\n",
        "layer = model.layer4 # Choose a layer from the Reset architecture\n",
        "activations = layer (images)\n",
        "\n",
        "# Take the mean along the channel dimension to reduce the number of channels\n",
        "activations = torch.mean(activations, dim=1)\n",
        "\n",
        "# Visualize the activations as a grid of feature maps\n",
        "fig, ax = pit.subplots(nrows=3, ncols=3)\n",
        "for i in range(9):\n",
        "  ax[i//3, i%3].imshow(activations[i].detach().numpy(), cmap=\"jet\") \n",
        "  ax[i//3, i%3].axis('off')\n",
        "pit.show()\n"
      ],
      "metadata": {
        "colab": {
          "base_uri": "https://localhost:8080/",
          "height": 248
        },
        "id": "ke3X9GPqh1gi",
        "outputId": "d9c31b9f-e95f-479d-89c1-f7dc79d2bff6"
      },
      "execution_count": 13,
      "outputs": [
        {
          "output_type": "display_data",
          "data": {
            "text/plain": [
              "<Figure size 432x288 with 9 Axes>"
            ],
            "image/png": "[encoded data removed]"
          },
          "metadata": {
            "needs_background": "light"
          }
        }
      ]
    },
    {
      "cell_type": "code",
      "source": [
        "import torch\n",
        "import torch.nn as nn\n",
        "import torch.optim as optim\n",
        "import torchvision.models as models\n",
        "\n",
        "# Load the ResNet-18 model and replace the final fully connected layer\n",
        "model = models.resnet50(pretrained=True)\n",
        "num_ftrs = model.fc.in_features\n",
        "model.fc = nn.Linear(num_ftrs, 10)\n",
        "\n",
        "# Freeze all layers in the ResNet-50 model\n",
        "for param in model.parameters():\n",
        "    param.requires_grad = False\n",
        "\n",
        "# Fine-tune the last few layers\n",
        "for param in model.fc.parameters():\n",
        "    param.requires_grad = True\n",
        "\n",
        "# Define the loss function and optimizer\n",
        "criterion = nn.CrossEntropyLoss()\n",
        "optimizer = optim.SGD(model.fc.parameters(), lr=0.001, momentum=0.9)\n",
        "\n",
        "import torch\n",
        "import torch.nn as nn\n",
        "import torch.optim as optim\n",
        "import torchvision\n",
        "import torchvision.transforms as transforms\n",
        "\n",
        "# Convert the grayscale data to RGB data\n",
        "transform = transforms.Compose([\n",
        "    transforms.Grayscale(num_output_channels=3),\n",
        "    transforms.ToTensor(),\n",
        "    transforms.Normalize((0.5, 0.5, 0.5), (0.5, 0.5, 0.5))\n",
        "])\n",
        "\n",
        "# Load the MNIST dataset\n",
        "train_dataset = torchvision.datasets.MNIST(root='./data', train=True, transform=transform, download=True)\n",
        "test_dataset = torchvision.datasets.MNIST(root='./data', train=False, transform=transform, download=True)\n",
        "\n",
        "# Split the dataset into training and validation sets\n",
        "train_size = int(0.8 * len(train_dataset))\n",
        "validation_size = len(train_dataset) - train_size\n",
        "train_dataset, validation_dataset = torch.utils.data.random_split(train_dataset, [train_size, validation_size])\n",
        "\n",
        "# Load the data into data loaders\n",
        "trainloader = torch.utils.data.DataLoader(train_dataset, batch_size=64, shuffle=True, num_workers=2)\n",
        "validationloader = torch.utils.data.DataLoader(validation_dataset, batch_size=64, shuffle=False, num_workers=2)\n",
        "testloader = torch.utils.data.DataLoader(test_dataset, batch_size=64, shuffle=False, num_workers=2)\n",
        "\n",
        "\n",
        "# Train the model\n",
        "for epoch in range(100):\n",
        "    running_loss = 0.0\n",
        "    for i, data in enumerate(trainloader, 0):\n",
        "        inputs, labels = data\n",
        "        optimizer.zero_grad()\n",
        "        outputs = model(inputs)\n",
        "        loss = criterion(outputs, labels)\n",
        "        loss.backward()\n",
        "        optimizer.step()\n",
        "        running_loss += loss.item()\n",
        "    print('Epoch %d loss: %.3f' % (epoch + 1, running_loss / len(trainloader)))\n",
        "    \n",
        "    # Validate the model to ensure it does not overfit\n",
        "    correct = 0\n",
        "    total = 0\n",
        "    with torch.no_grad():\n",
        "        for data in validationloader:\n",
        "            images, labels = data\n",
        "            outputs = model(images)\n",
        "            _, predicted = torch.max(outputs.data, 1)\n",
        "            total += labels.size(0)\n",
        "            correct += (predicted == labels).sum().item()\n",
        "    print('Accuracy of the network on the validation set: %d %%' % (100 * correct / total))\n",
        "\n",
        "print('Finished Training')\n",
        "\n",
        "# Test the model on the test set\n",
        "correct = 0\n",
        "total = 0\n",
        "with torch.no_grad():\n",
        "    for data in testloader:\n",
        "        images, labels = data\n",
        "        outputs = model(images)\n",
        "        _, predicted = torch.max(outputs.data, 1)\n",
        "        total += labels.size(0)\n",
        "        correct += (predicted == labels).sum().item()\n",
        "\n",
        "print('Accuracy of the network on the test set: %d %%' % (100 * correct / total))\n"
      ],
      "metadata": {
        "colab": {
          "base_uri": "https://localhost:8080/",
          "height": 1000,
          "referenced_widgets": [
            "ca77cdd1d66b461f8ec16dbe69e99881",
            "8bed976747ac479e9ae6e59b298af020",
            "238f70e904794bcb876b338c6886ab17",
            "bc87f0933df2443fa1e4d56dee2c789e",
            "1be18554a9a141c0b35517ba864b9eaa",
            "11a3f5f5b4f04ec5a5df32216b44598d",
            "dbff3d9b15914f62997e294237aee6ef",
            "0d7323ba07a94b539ff07fbbacd92419",
            "579e0edfa58d40d78a7d0160d79f6ffe",
            "8d8dd84daba546e9a7953a7b0b17a41a",
            "51268598a9844e0098de1607f3f78461"
          ]
        },
        "id": "jgLvz1SXN-QY",
        "outputId": "32c07865-8dec-4106-80ac-9704b7c1a9af"
      },
      "execution_count": null,
      "outputs": [
        {
          "metadata": {
            "tags": null
          },
          "name": "stderr",
          "output_type": "stream",
          "text": [
            "/usr/local/lib/python3.8/dist-packages/torchvision/models/_utils.py:208: UserWarning: The parameter 'pretrained' is deprecated since 0.13 and may be removed in the future, please use 'weights' instead.\n",
            "  warnings.warn(\n",
            "/usr/local/lib/python3.8/dist-packages/torchvision/models/_utils.py:223: UserWarning: Arguments other than a weight enum or `None` for 'weights' are deprecated since 0.13 and may be removed in the future. The current behavior is equivalent to passing `weights=ResNet50_Weights.IMAGENET1K_V1`. You can also use `weights=ResNet50_Weights.DEFAULT` to get the most up-to-date weights.\n",
            "  warnings.warn(msg)\n",
            "Downloading: \"https://download.pytorch.org/models/resnet50-0676ba61.pth\" to /root/.cache/torch/hub/checkpoints/resnet50-0676ba61.pth\n"
          ]
        },
        {
          "data": {
            "application/vnd.jupyter.widget-view+json": {
              "model_id": "ca77cdd1d66b461f8ec16dbe69e99881",
              "version_major": 2,
              "version_minor": 0
            },
            "text/plain": [
              "  0%|          | 0.00/97.8M [00:00<?, ?B/s]"
            ]
          },
          "metadata": {},
          "output_type": "display_data"
        },
        {
          "output_type": "stream",
          "name": "stdout",
          "text": [
            "Epoch 1 loss: 1.245\n",
            "Accuracy of the network on the validation set: 70 %\n",
            "Epoch 2 loss: 0.925\n",
            "Accuracy of the network on the validation set: 73 %\n",
            "Epoch 3 loss: 0.852\n",
            "Accuracy of the network on the validation set: 74 %\n",
            "Epoch 4 loss: 0.801\n",
            "Accuracy of the network on the validation set: 75 %\n",
            "Epoch 5 loss: 0.763\n",
            "Accuracy of the network on the validation set: 76 %\n",
            "Epoch 6 loss: 0.738\n",
            "Accuracy of the network on the validation set: 77 %\n",
            "Epoch 7 loss: 0.714\n",
            "Accuracy of the network on the validation set: 77 %\n",
            "Epoch 8 loss: 0.699\n",
            "Accuracy of the network on the validation set: 77 %\n",
            "Epoch 9 loss: 0.689\n",
            "Accuracy of the network on the validation set: 78 %\n",
            "Epoch 10 loss: 0.675\n",
            "Accuracy of the network on the validation set: 78 %\n",
            "Epoch 11 loss: 0.667\n",
            "Accuracy of the network on the validation set: 78 %\n",
            "Epoch 12 loss: 0.656\n",
            "Accuracy of the network on the validation set: 78 %\n",
            "Epoch 13 loss: 0.646\n",
            "Accuracy of the network on the validation set: 79 %\n",
            "Epoch 14 loss: 0.639\n",
            "Accuracy of the network on the validation set: 79 %\n",
            "Epoch 15 loss: 0.632\n",
            "Accuracy of the network on the validation set: 79 %\n",
            "Epoch 16 loss: 0.625\n",
            "Accuracy of the network on the validation set: 79 %\n",
            "Epoch 17 loss: 0.623\n",
            "Accuracy of the network on the validation set: 79 %\n",
            "Epoch 18 loss: 0.617\n",
            "Accuracy of the network on the validation set: 80 %\n",
            "Epoch 19 loss: 0.604\n",
            "Accuracy of the network on the validation set: 80 %\n",
            "Epoch 20 loss: 0.612\n",
            "Accuracy of the network on the validation set: 80 %\n",
            "Epoch 21 loss: 0.604\n",
            "Accuracy of the network on the validation set: 80 %\n",
            "Epoch 22 loss: 0.594\n",
            "Accuracy of the network on the validation set: 80 %\n",
            "Epoch 23 loss: 0.602\n",
            "Accuracy of the network on the validation set: 80 %\n",
            "Epoch 24 loss: 0.595\n",
            "Accuracy of the network on the validation set: 80 %\n",
            "Epoch 25 loss: 0.586\n",
            "Accuracy of the network on the validation set: 80 %\n",
            "Epoch 26 loss: 0.591\n",
            "Accuracy of the network on the validation set: 80 %\n",
            "Epoch 27 loss: 0.586\n",
            "Accuracy of the network on the validation set: 80 %\n",
            "Epoch 28 loss: 0.586\n",
            "Accuracy of the network on the validation set: 80 %\n",
            "Epoch 29 loss: 0.585\n",
            "Accuracy of the network on the validation set: 80 %\n",
            "Epoch 30 loss: 0.578\n",
            "Accuracy of the network on the validation set: 80 %\n"
          ]
        }
      ]
    },
    {
      "cell_type": "code",
      "source": [
        "import torch\n",
        "import torchvision.transforms as transforms\n",
        "import torchvision.datasets as datasets\n",
        "import torch.nn as nn\n",
        "import torch.optim as optim\n",
        "\n",
        "# Load the MNIST dataset\n",
        "transform = transforms.Compose([\n",
        "    transforms.ToTensor(),\n",
        "    transforms.Normalize((0.5,), (0.5,))\n",
        "])\n",
        "trainset = datasets.MNIST(root='./data', train=True, download=True, transform=transform)\n",
        "trainloader = torch.utils.data.DataLoader(trainset, batch_size=32, shuffle=True, num_workers=2)\n",
        "\n",
        "# Load the pre-trained model\n",
        "model = torchvision.models.resnet18(pretrained=True)\n",
        "\n",
        "# Convert the model to be used for a single channel input\n",
        "model.conv1 = nn.Conv2d(1, 64, kernel_size=7, stride=2, padding=3, bias=False)\n",
        "\n",
        "# Freeze the model parameters\n",
        "for param in model.parameters():\n",
        "    param.requires_grad = False\n",
        "\n",
        "# Replace the final fully connected layer with a new layer that outputs 10 classes\n",
        "model.fc = nn.Linear(512, 10)\n",
        "\n",
        "# Move the model to GPU\n",
        "device = torch.device(\"cuda\" if torch.cuda.is_available() else \"cpu\")\n",
        "model = model.to(device)\n",
        "\n",
        "# Define the loss function and optimizer\n",
        "criterion = nn.CrossEntropyLoss()\n",
        "optimizer = optim.SGD(model.fc.parameters(), lr=0.001, momentum=0.9)\n",
        "\n",
        "# Train the model\n",
        "for epoch in range(20):\n",
        "    running_loss = 0.0\n",
        "    for i, data in enumerate(trainloader, 0):\n",
        "        inputs, labels = data\n",
        "        inputs, labels = inputs.to(device), labels.to(device)\n",
        "        \n",
        "        # Convert the input image from 1 channel to 3 channels\n",
        "        #inputs = torch.cat([inputs, inputs, inputs], dim=1)\n",
        "\n",
        "        optimizer.zero_grad()\n",
        "\n",
        "        outputs = model(inputs)\n",
        "        loss = criterion(outputs, labels)\n",
        "        loss.backward()\n",
        "        optimizer.step()\n",
        "\n",
        "        running_loss += loss.item()\n",
        "    print(f'Epoch {epoch + 1} Loss: {running_loss / len(trainloader):.4f}')\n"
      ],
      "metadata": {
        "id": "0H2XNj8M4s1Y",
        "outputId": "5f033da2-eeb7-405b-ea5f-dd7ce5547bbd",
        "colab": {
          "base_uri": "https://localhost:8080/"
        }
      },
      "execution_count": 20,
      "outputs": [
        {
          "output_type": "stream",
          "name": "stdout",
          "text": [
            "Epoch 1 Loss: 1.5000\n",
            "Epoch 2 Loss: 1.3650\n",
            "Epoch 3 Loss: 1.3437\n",
            "Epoch 4 Loss: 1.3478\n",
            "Epoch 5 Loss: 1.3382\n",
            "Epoch 6 Loss: 1.3327\n",
            "Epoch 7 Loss: 1.3291\n",
            "Epoch 8 Loss: 1.3354\n",
            "Epoch 9 Loss: 1.3321\n",
            "Epoch 10 Loss: 1.3353\n",
            "Epoch 11 Loss: 1.3321\n",
            "Epoch 12 Loss: 1.3306\n",
            "Epoch 13 Loss: 1.3270\n",
            "Epoch 14 Loss: 1.3299\n",
            "Epoch 15 Loss: 1.3348\n",
            "Epoch 16 Loss: 1.3344\n",
            "Epoch 17 Loss: 1.3215\n",
            "Epoch 18 Loss: 1.3313\n",
            "Epoch 19 Loss: 1.3288\n",
            "Epoch 20 Loss: 1.3326\n"
          ]
        }
      ]
    },
    {
      "cell_type": "code",
      "source": [],
      "metadata": {
        "id": "dN93ssAuf4SX"
      },
      "execution_count": null,
      "outputs": []
    },
    {
      "cell_type": "code",
      "source": [
        "# Test the model\n",
        "model.eval()\n",
        "\n",
        "with torch.no_grad():\n",
        "    correct = 0\n",
        "    total = 0\n",
        "    for data in testloader:\n",
        "        images, labels = data\n",
        "        images, labels = images.to(device), labels.to(device)\n",
        "\n",
        "        # Convert the input image from 1 channel to 3 channels\n",
        "        #images = torch.cat([images, images, images], dim=1)\n",
        "\n",
        "        outputs = model(images)\n",
        "        _, predicted = torch.max(outputs.data, 1)\n",
        "        total += labels.size(0)\n",
        "        correct += (predicted == labels).sum().item()\n",
        "\n",
        "    print(f'Accuracy of the model on the test images: {100 * correct / total:.2f}%')\n"
      ],
      "metadata": {
        "id": "9xNPufHA7Su7",
        "outputId": "ad6264cf-2974-480e-d9d1-f6d578a57acf",
        "colab": {
          "base_uri": "https://localhost:8080/"
        }
      },
      "execution_count": 21,
      "outputs": [
        {
          "output_type": "stream",
          "name": "stdout",
          "text": [
            "Accuracy of the model on the test images: 58.33%\n"
          ]
        }
      ]
    }
  ]
}